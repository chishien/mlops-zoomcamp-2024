{
 "cells": [
  {
   "cell_type": "markdown",
   "metadata": {},
   "source": [
    "### Homework\n",
    "\n",
    "The goal of this homework is to create a simple training pipeline, use mlflow to track experiments and register best model, but use Mage for it.\n",
    "\n",
    "We'll use [the same NYC taxi dataset](https://www1.nyc.gov/site/tlc/about/tlc-trip-record-data.page), the **Yellow** taxi data for March, 2023. "
   ]
  },
  {
   "cell_type": "markdown",
   "metadata": {},
   "source": [
    "### Question 1. Run Mage\n",
    "\n",
    "First, let's run Mage with Docker Compose. Follow the quick start guideline. \n",
    "\n",
    "What's the version of Mage we run? \n",
    "\n",
    "(You can see it in the UI)"
   ]
  },
  {
   "cell_type": "markdown",
   "metadata": {},
   "source": [
    ">Answer:\n",
    "```\n",
    "v0.9.71\n",
    "```\n",
    "\n",
    "![Question 1](./static/q1.png)"
   ]
  },
  {
   "cell_type": "markdown",
   "metadata": {},
   "source": [
    "### Question 2. Creating a project\n",
    "\n",
    "Now let's create a new project. We can call it \"homework_03\", for example.\n",
    "\n",
    "How many lines are in the created `metadata.yaml` file?"
   ]
  },
  {
   "cell_type": "markdown",
   "metadata": {},
   "source": [
    ">Answer:\n",
    "```\n",
    "55\n",
    "```\n",
    "\n",
    "![Question 2](./static/q2.png)"
   ]
  },
  {
   "cell_type": "markdown",
   "metadata": {},
   "source": [
    "### Question 3. Creating a pipeline\n",
    "\n",
    "Let's create an ingestion code block.\n",
    "\n",
    "In this block, we will read the March 2023 Yellow taxi trips data.\n",
    "\n",
    "How many records did we load?"
   ]
  },
  {
   "cell_type": "markdown",
   "metadata": {},
   "source": [
    ">Answer:\n",
    "```\n",
    "3,403,766\n",
    "```\n",
    "\n",
    "![Question 3](./static/q3.png)"
   ]
  },
  {
   "cell_type": "markdown",
   "metadata": {},
   "source": [
    "### Question 4. Data preparation\n",
    "\n",
    "Let's use the same logic for preparing the data we used previously. We will need to create a transformer code block and put this code there.\n",
    "\n",
    "This is what we used (adjusted for yellow dataset):\n",
    "\n",
    "```python\n",
    "def read_dataframe(filename):\n",
    "    df = pd.read_parquet(filename)\n",
    "\n",
    "    df.tpep_dropoff_datetime = pd.to_datetime(df.tpep_dropoff_datetime)\n",
    "    df.tpep_pickup_datetime = pd.to_datetime(df.tpep_pickup_datetime)\n",
    "\n",
    "    df['duration'] = df.tpep_dropoff_datetime - df.tpep_pickup_datetime\n",
    "    df.duration = df.duration.dt.total_seconds() / 60\n",
    "\n",
    "    df = df[(df.duration >= 1) & (df.duration <= 60)]\n",
    "\n",
    "    categorical = ['PULocationID', 'DOLocationID']\n",
    "    df[categorical] = df[categorical].astype(str)\n",
    "    \n",
    "    return df\n",
    "```\n",
    "\n",
    "Let's adjust it and apply to the data we loaded in question 3.\n",
    "\n",
    "What's the size of the result?"
   ]
  },
  {
   "cell_type": "markdown",
   "metadata": {},
   "source": [
    ">Answer:\n",
    "```\n",
    "3,316,216 \n",
    "```\n",
    "\n",
    "![Question 4](./static/q4.png)"
   ]
  },
  {
   "cell_type": "markdown",
   "metadata": {},
   "source": [
    "### Question 5. Train a model\n",
    "\n",
    "We will now train a linear regression model using the same code as in homework 1.\n",
    "\n",
    "* Fit a dict vectorizer.\n",
    "* Train a linear regression with default parameters.\n",
    "* Use pick up and drop off locations separately, don't create a combination feature.\n",
    "\n",
    "Let's now use it in the pipeline. We will need to create another transformation block, and return both the dict vectorizer and the model.\n",
    "\n",
    "What's the intercept of the model?\n",
    "\n",
    "Hint: print the `intercept_` field in the code block"
   ]
  },
  {
   "cell_type": "markdown",
   "metadata": {},
   "source": [
    ">Answer:\n",
    "```\n",
    "24.77\n",
    "```\n",
    "\n",
    "![Question 5](./static/q5.png)"
   ]
  },
  {
   "cell_type": "markdown",
   "metadata": {},
   "source": [
    "### Question 6. Register the model \n",
    "\n",
    "The model is trained, so let's save it with MLFlow.\n",
    "\n",
    "If you run mage with docker-compose, stop it with Ctrl+C or \n",
    "\n",
    "```bash\n",
    "docker-compose down\n",
    "```\n",
    "\n",
    "Let's create a dockerfile for mlflow, e.g. `mlflow.dockerfile`:\n",
    "\n",
    "```dockerfile\n",
    "FROM python:3.10-slim\n",
    "\n",
    "RUN pip install mlflow==2.12.1\n",
    "\n",
    "EXPOSE 5000\n",
    "\n",
    "CMD [ \\\n",
    "    \"mlflow\", \"server\", \\\n",
    "    \"--backend-store-uri\", \"sqlite:///home/mlflow/mlflow.db\", \\\n",
    "    \"--host\", \"0.0.0.0\", \\\n",
    "    \"--port\", \"5000\" \\\n",
    "]\n",
    "```\n",
    "\n",
    "And add it to the docker-compose.yaml:\n",
    "\n",
    "```yaml\n",
    "  mlflow:\n",
    "    build:\n",
    "      context: .\n",
    "      dockerfile: mlflow.dockerfile\n",
    "    ports:\n",
    "      - \"5000:5000\"\n",
    "    volumes:\n",
    "      - \"${PWD}/mlflow:/home/mlflow/\"\n",
    "    networks:\n",
    "      - app-network\n",
    "```\n",
    "\n",
    "Note that `app-network` is the same network as for mage and postgres containers.\n",
    "If you use a different compose file, adjust it.\n",
    "\n",
    "We should already have `mlflow==2.12.1` in requirements.txt in the mage project we created for the module. If you're starting from scratch, add it to your requirements.\n",
    "\n",
    "Next, start the compose again and create a data exporter block.\n",
    "\n",
    "In the block, we\n",
    "\n",
    "* Log the model (linear regression)\n",
    "* Save and log the artifact (dict vectorizer)\n",
    "\n",
    "If you used the suggested docker-compose snippet, mlflow should be accessible at `http://mlflow:5000`.\n",
    "\n",
    "Find the logged model, and find MLModel file. What's the size of the model? (`model_size_bytes` field):\n",
    "\n",
    "> Note: typically we do last two steps in one code block."
   ]
  },
  {
   "cell_type": "markdown",
   "metadata": {},
   "source": [
    ">Answer:\n",
    "```\n",
    "4,534\n",
    "```\n",
    "\n",
    "![Question 6.1](./static/q6-1.png)\n",
    "![Question 6.2](./static/q6-2.png)"
   ]
  }
 ],
 "metadata": {
  "language_info": {
   "name": "python"
  }
 },
 "nbformat": 4,
 "nbformat_minor": 2
}
